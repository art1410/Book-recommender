{
 "cells": [
  {
   "cell_type": "code",
   "id": "initial_id",
   "metadata": {
    "collapsed": true,
    "ExecuteTime": {
     "end_time": "2025-07-12T00:00:29.220398Z",
     "start_time": "2025-07-12T00:00:29.090469Z"
    }
   },
   "source": [
    "import pandas as pd\n",
    "\n",
    "books = pd.read_csv(\"books_with_categories.csv\")"
   ],
   "outputs": [],
   "execution_count": 1
  },
  {
   "metadata": {
    "ExecuteTime": {
     "end_time": "2025-07-12T00:49:44.719429Z",
     "start_time": "2025-07-12T00:49:43.790957Z"
    }
   },
   "cell_type": "code",
   "source": [
    "from transformers import pipeline\n",
    "classifier = pipeline(\"text-classification\",\n",
    "                      model=\"j-hartmann/emotion-english-distilroberta-base\",\n",
    "                      top_k= None,\n",
    "                      )\n",
    "classifier(\"I love this!\")"
   ],
   "id": "556f008471fbb08b",
   "outputs": [
    {
     "name": "stderr",
     "output_type": "stream",
     "text": [
      "Device set to use cpu\n"
     ]
    },
    {
     "data": {
      "text/plain": [
       "[[{'label': 'joy', 'score': 0.9771687984466553},\n",
       "  {'label': 'surprise', 'score': 0.008528673090040684},\n",
       "  {'label': 'neutral', 'score': 0.005764589179307222},\n",
       "  {'label': 'anger', 'score': 0.004419779404997826},\n",
       "  {'label': 'sadness', 'score': 0.002092391485348344},\n",
       "  {'label': 'disgust', 'score': 0.0016119909705594182},\n",
       "  {'label': 'fear', 'score': 0.00041385178337804973}]]"
      ]
     },
     "execution_count": 21,
     "metadata": {},
     "output_type": "execute_result"
    }
   ],
   "execution_count": 21
  },
  {
   "metadata": {
    "ExecuteTime": {
     "end_time": "2025-07-12T00:49:55.559590Z",
     "start_time": "2025-07-12T00:49:55.553049Z"
    }
   },
   "cell_type": "code",
   "source": "books[\"description\"][0]",
   "id": "c90da99e5d38012a",
   "outputs": [
    {
     "data": {
      "text/plain": [
       "'A NOVEL THAT READERS and critics have been eagerly anticipating for over a decade, Gilead is an astonishingly imagined story of remarkable lives. John Ames is a preacher, the son of a preacher and the grandson (both maternal and paternal) of preachers. It’s 1956 in Gilead, Iowa, towards the end of the Reverend Ames’s life, and he is absorbed in recording his family’s story, a legacy for the young son he will never see grow up. Haunted by his grandfather’s presence, John tells of the rift between his grandfather and his father: the elder, an angry visionary who fought for the abolitionist cause, and his son, an ardent pacifist. He is troubled, too, by his prodigal namesake, Jack (John Ames) Boughton, his best friend’s lost son who returns to Gilead searching for forgiveness and redemption. Told in John Ames’s joyous, rambling voice that finds beauty, humour and truth in the smallest of life’s details, Gilead is a song of celebration and acceptance of the best and the worst the world has to offer. At its heart is a tale of the sacred bonds between fathers and sons, pitch-perfect in style and story, set to dazzle critics and readers alike.'"
      ]
     },
     "execution_count": 22,
     "metadata": {},
     "output_type": "execute_result"
    }
   ],
   "execution_count": 22
  },
  {
   "metadata": {
    "ExecuteTime": {
     "end_time": "2025-07-12T00:49:57.817945Z",
     "start_time": "2025-07-12T00:49:57.650231Z"
    }
   },
   "cell_type": "code",
   "source": "classifier(books[\"description\"][0])",
   "id": "44143faf093d97b7",
   "outputs": [
    {
     "data": {
      "text/plain": [
       "[[{'label': 'fear', 'score': 0.6548418998718262},\n",
       "  {'label': 'neutral', 'score': 0.16985182464122772},\n",
       "  {'label': 'sadness', 'score': 0.11640854179859161},\n",
       "  {'label': 'surprise', 'score': 0.020700592547655106},\n",
       "  {'label': 'disgust', 'score': 0.01910073682665825},\n",
       "  {'label': 'joy', 'score': 0.015161239542067051},\n",
       "  {'label': 'anger', 'score': 0.00393515033647418}]]"
      ]
     },
     "execution_count": 23,
     "metadata": {},
     "output_type": "execute_result"
    }
   ],
   "execution_count": 23
  },
  {
   "metadata": {
    "ExecuteTime": {
     "end_time": "2025-07-12T00:50:00.262622Z",
     "start_time": "2025-07-12T00:49:59.871679Z"
    }
   },
   "cell_type": "code",
   "source": "classifier(books[\"description\"][0].split(\".\"))",
   "id": "5b6da886c429e42f",
   "outputs": [
    {
     "data": {
      "text/plain": [
       "[[{'label': 'surprise', 'score': 0.7296027541160583},\n",
       "  {'label': 'neutral', 'score': 0.14038576185703278},\n",
       "  {'label': 'fear', 'score': 0.06816209107637405},\n",
       "  {'label': 'joy', 'score': 0.04794240742921829},\n",
       "  {'label': 'anger', 'score': 0.00915635284036398},\n",
       "  {'label': 'disgust', 'score': 0.0026284719351679087},\n",
       "  {'label': 'sadness', 'score': 0.0021221607457846403}],\n",
       " [{'label': 'neutral', 'score': 0.449370414018631},\n",
       "  {'label': 'disgust', 'score': 0.27359241247177124},\n",
       "  {'label': 'joy', 'score': 0.10908260941505432},\n",
       "  {'label': 'sadness', 'score': 0.09362703561782837},\n",
       "  {'label': 'anger', 'score': 0.040478307753801346},\n",
       "  {'label': 'surprise', 'score': 0.02697017230093479},\n",
       "  {'label': 'fear', 'score': 0.006879065651446581}],\n",
       " [{'label': 'neutral', 'score': 0.6462168097496033},\n",
       "  {'label': 'sadness', 'score': 0.2427326887845993},\n",
       "  {'label': 'disgust', 'score': 0.04342268034815788},\n",
       "  {'label': 'surprise', 'score': 0.028300466015934944},\n",
       "  {'label': 'joy', 'score': 0.014211482368409634},\n",
       "  {'label': 'fear', 'score': 0.014084089547395706},\n",
       "  {'label': 'anger', 'score': 0.011031883768737316}],\n",
       " [{'label': 'fear', 'score': 0.928168535232544},\n",
       "  {'label': 'anger', 'score': 0.0321907103061676},\n",
       "  {'label': 'neutral', 'score': 0.012808633036911488},\n",
       "  {'label': 'sadness', 'score': 0.00875683594495058},\n",
       "  {'label': 'surprise', 'score': 0.008597894571721554},\n",
       "  {'label': 'disgust', 'score': 0.008431794121861458},\n",
       "  {'label': 'joy', 'score': 0.0010455806041136384}],\n",
       " [{'label': 'sadness', 'score': 0.9671575427055359},\n",
       "  {'label': 'neutral', 'score': 0.015104170888662338},\n",
       "  {'label': 'disgust', 'score': 0.006480592768639326},\n",
       "  {'label': 'fear', 'score': 0.005393994972109795},\n",
       "  {'label': 'surprise', 'score': 0.0022869433742016554},\n",
       "  {'label': 'anger', 'score': 0.0018428886542096734},\n",
       "  {'label': 'joy', 'score': 0.001733880490064621}],\n",
       " [{'label': 'joy', 'score': 0.9327982664108276},\n",
       "  {'label': 'disgust', 'score': 0.03771686181426048},\n",
       "  {'label': 'neutral', 'score': 0.015891842544078827},\n",
       "  {'label': 'sadness', 'score': 0.006444473285228014},\n",
       "  {'label': 'anger', 'score': 0.005024951882660389},\n",
       "  {'label': 'surprise', 'score': 0.0015812074998393655},\n",
       "  {'label': 'fear', 'score': 0.0005423047696240246}],\n",
       " [{'label': 'joy', 'score': 0.6528704166412354},\n",
       "  {'label': 'neutral', 'score': 0.254274845123291},\n",
       "  {'label': 'surprise', 'score': 0.06808319687843323},\n",
       "  {'label': 'sadness', 'score': 0.009908993728458881},\n",
       "  {'label': 'disgust', 'score': 0.00651219068095088},\n",
       "  {'label': 'anger', 'score': 0.004821313079446554},\n",
       "  {'label': 'fear', 'score': 0.003529015462845564}],\n",
       " [{'label': 'neutral', 'score': 0.5494767427444458},\n",
       "  {'label': 'sadness', 'score': 0.11169015616178513},\n",
       "  {'label': 'disgust', 'score': 0.10400672256946564},\n",
       "  {'label': 'surprise', 'score': 0.07876548916101456},\n",
       "  {'label': 'anger', 'score': 0.06413363665342331},\n",
       "  {'label': 'fear', 'score': 0.05136279761791229},\n",
       "  {'label': 'joy', 'score': 0.040564414113759995}]]"
      ]
     },
     "execution_count": 24,
     "metadata": {},
     "output_type": "execute_result"
    }
   ],
   "execution_count": 24
  },
  {
   "metadata": {
    "ExecuteTime": {
     "end_time": "2025-07-12T00:50:02.494140Z",
     "start_time": "2025-07-12T00:50:02.149105Z"
    }
   },
   "cell_type": "code",
   "source": [
    "sentences = books[\"description\"][0].split(\".\")\n",
    "predictions = classifier(sentences)"
   ],
   "id": "65633d573e585a2c",
   "outputs": [],
   "execution_count": 25
  },
  {
   "metadata": {
    "ExecuteTime": {
     "end_time": "2025-07-12T00:50:12.190514Z",
     "start_time": "2025-07-12T00:50:12.185689Z"
    }
   },
   "cell_type": "code",
   "source": "sentences[0]",
   "id": "9864da5092c35b48",
   "outputs": [
    {
     "data": {
      "text/plain": [
       "'A NOVEL THAT READERS and critics have been eagerly anticipating for over a decade, Gilead is an astonishingly imagined story of remarkable lives'"
      ]
     },
     "execution_count": 27,
     "metadata": {},
     "output_type": "execute_result"
    }
   ],
   "execution_count": 27
  },
  {
   "metadata": {
    "ExecuteTime": {
     "end_time": "2025-07-12T00:50:13.772576Z",
     "start_time": "2025-07-12T00:50:13.752457Z"
    }
   },
   "cell_type": "code",
   "source": "predictions[0]",
   "id": "a0fcb6d8d74b692d",
   "outputs": [
    {
     "data": {
      "text/plain": [
       "[{'label': 'surprise', 'score': 0.7296027541160583},\n",
       " {'label': 'neutral', 'score': 0.14038576185703278},\n",
       " {'label': 'fear', 'score': 0.06816209107637405},\n",
       " {'label': 'joy', 'score': 0.04794240742921829},\n",
       " {'label': 'anger', 'score': 0.00915635284036398},\n",
       " {'label': 'disgust', 'score': 0.0026284719351679087},\n",
       " {'label': 'sadness', 'score': 0.0021221607457846403}]"
      ]
     },
     "execution_count": 28,
     "metadata": {},
     "output_type": "execute_result"
    }
   ],
   "execution_count": 28
  },
  {
   "metadata": {
    "ExecuteTime": {
     "end_time": "2025-07-12T00:50:17.211605Z",
     "start_time": "2025-07-12T00:50:17.205760Z"
    }
   },
   "cell_type": "code",
   "source": "sentences[3]",
   "id": "62043277bd2de372",
   "outputs": [
    {
     "data": {
      "text/plain": [
       "' Haunted by his grandfather’s presence, John tells of the rift between his grandfather and his father: the elder, an angry visionary who fought for the abolitionist cause, and his son, an ardent pacifist'"
      ]
     },
     "execution_count": 29,
     "metadata": {},
     "output_type": "execute_result"
    }
   ],
   "execution_count": 29
  },
  {
   "metadata": {
    "ExecuteTime": {
     "end_time": "2025-07-12T00:50:18.783346Z",
     "start_time": "2025-07-12T00:50:18.761628Z"
    }
   },
   "cell_type": "code",
   "source": "predictions[3]",
   "id": "6d07c0ee15799f75",
   "outputs": [
    {
     "data": {
      "text/plain": [
       "[{'label': 'fear', 'score': 0.928168535232544},\n",
       " {'label': 'anger', 'score': 0.0321907103061676},\n",
       " {'label': 'neutral', 'score': 0.012808633036911488},\n",
       " {'label': 'sadness', 'score': 0.00875683594495058},\n",
       " {'label': 'surprise', 'score': 0.008597894571721554},\n",
       " {'label': 'disgust', 'score': 0.008431794121861458},\n",
       " {'label': 'joy', 'score': 0.0010455806041136384}]"
      ]
     },
     "execution_count": 30,
     "metadata": {},
     "output_type": "execute_result"
    }
   ],
   "execution_count": 30
  },
  {
   "metadata": {
    "ExecuteTime": {
     "end_time": "2025-07-12T00:50:21.200410Z",
     "start_time": "2025-07-12T00:50:21.192142Z"
    }
   },
   "cell_type": "code",
   "source": "predictions",
   "id": "5bcd36c20b8b407e",
   "outputs": [
    {
     "data": {
      "text/plain": [
       "[[{'label': 'surprise', 'score': 0.7296027541160583},\n",
       "  {'label': 'neutral', 'score': 0.14038576185703278},\n",
       "  {'label': 'fear', 'score': 0.06816209107637405},\n",
       "  {'label': 'joy', 'score': 0.04794240742921829},\n",
       "  {'label': 'anger', 'score': 0.00915635284036398},\n",
       "  {'label': 'disgust', 'score': 0.0026284719351679087},\n",
       "  {'label': 'sadness', 'score': 0.0021221607457846403}],\n",
       " [{'label': 'neutral', 'score': 0.449370414018631},\n",
       "  {'label': 'disgust', 'score': 0.27359241247177124},\n",
       "  {'label': 'joy', 'score': 0.10908260941505432},\n",
       "  {'label': 'sadness', 'score': 0.09362703561782837},\n",
       "  {'label': 'anger', 'score': 0.040478307753801346},\n",
       "  {'label': 'surprise', 'score': 0.02697017230093479},\n",
       "  {'label': 'fear', 'score': 0.006879065651446581}],\n",
       " [{'label': 'neutral', 'score': 0.6462168097496033},\n",
       "  {'label': 'sadness', 'score': 0.2427326887845993},\n",
       "  {'label': 'disgust', 'score': 0.04342268034815788},\n",
       "  {'label': 'surprise', 'score': 0.028300466015934944},\n",
       "  {'label': 'joy', 'score': 0.014211482368409634},\n",
       "  {'label': 'fear', 'score': 0.014084089547395706},\n",
       "  {'label': 'anger', 'score': 0.011031883768737316}],\n",
       " [{'label': 'fear', 'score': 0.928168535232544},\n",
       "  {'label': 'anger', 'score': 0.0321907103061676},\n",
       "  {'label': 'neutral', 'score': 0.012808633036911488},\n",
       "  {'label': 'sadness', 'score': 0.00875683594495058},\n",
       "  {'label': 'surprise', 'score': 0.008597894571721554},\n",
       "  {'label': 'disgust', 'score': 0.008431794121861458},\n",
       "  {'label': 'joy', 'score': 0.0010455806041136384}],\n",
       " [{'label': 'sadness', 'score': 0.9671575427055359},\n",
       "  {'label': 'neutral', 'score': 0.015104170888662338},\n",
       "  {'label': 'disgust', 'score': 0.006480592768639326},\n",
       "  {'label': 'fear', 'score': 0.005393994972109795},\n",
       "  {'label': 'surprise', 'score': 0.0022869433742016554},\n",
       "  {'label': 'anger', 'score': 0.0018428886542096734},\n",
       "  {'label': 'joy', 'score': 0.001733880490064621}],\n",
       " [{'label': 'joy', 'score': 0.9327982664108276},\n",
       "  {'label': 'disgust', 'score': 0.03771686181426048},\n",
       "  {'label': 'neutral', 'score': 0.015891842544078827},\n",
       "  {'label': 'sadness', 'score': 0.006444473285228014},\n",
       "  {'label': 'anger', 'score': 0.005024951882660389},\n",
       "  {'label': 'surprise', 'score': 0.0015812074998393655},\n",
       "  {'label': 'fear', 'score': 0.0005423047696240246}],\n",
       " [{'label': 'joy', 'score': 0.6528704166412354},\n",
       "  {'label': 'neutral', 'score': 0.254274845123291},\n",
       "  {'label': 'surprise', 'score': 0.06808319687843323},\n",
       "  {'label': 'sadness', 'score': 0.009908993728458881},\n",
       "  {'label': 'disgust', 'score': 0.00651219068095088},\n",
       "  {'label': 'anger', 'score': 0.004821313079446554},\n",
       "  {'label': 'fear', 'score': 0.003529015462845564}],\n",
       " [{'label': 'neutral', 'score': 0.5494767427444458},\n",
       "  {'label': 'sadness', 'score': 0.11169015616178513},\n",
       "  {'label': 'disgust', 'score': 0.10400672256946564},\n",
       "  {'label': 'surprise', 'score': 0.07876548916101456},\n",
       "  {'label': 'anger', 'score': 0.06413363665342331},\n",
       "  {'label': 'fear', 'score': 0.05136279761791229},\n",
       "  {'label': 'joy', 'score': 0.040564414113759995}]]"
      ]
     },
     "execution_count": 31,
     "metadata": {},
     "output_type": "execute_result"
    }
   ],
   "execution_count": 31
  },
  {
   "metadata": {
    "ExecuteTime": {
     "end_time": "2025-07-12T00:50:23.441890Z",
     "start_time": "2025-07-12T00:50:23.424759Z"
    }
   },
   "cell_type": "code",
   "source": "sorted(predictions[0], key=lambda x: x[\"label\"])",
   "id": "83baa0e91f25f10c",
   "outputs": [
    {
     "data": {
      "text/plain": [
       "[{'label': 'anger', 'score': 0.00915635284036398},\n",
       " {'label': 'disgust', 'score': 0.0026284719351679087},\n",
       " {'label': 'fear', 'score': 0.06816209107637405},\n",
       " {'label': 'joy', 'score': 0.04794240742921829},\n",
       " {'label': 'neutral', 'score': 0.14038576185703278},\n",
       " {'label': 'sadness', 'score': 0.0021221607457846403},\n",
       " {'label': 'surprise', 'score': 0.7296027541160583}]"
      ]
     },
     "execution_count": 32,
     "metadata": {},
     "output_type": "execute_result"
    }
   ],
   "execution_count": 32
  },
  {
   "metadata": {
    "ExecuteTime": {
     "end_time": "2025-07-12T00:53:21.978723Z",
     "start_time": "2025-07-12T00:53:21.968900Z"
    }
   },
   "cell_type": "code",
   "source": [
    "import numpy as np\n",
    "\n",
    "emotion_labels = [\"anger\",\"disgust\", \"fear\", \"joy\", \"sadness\",\"surprise\", \"neutral\"]\n",
    "isbn = []\n",
    "emotion_scores = {label:[] for label in emotion_labels}\n",
    "\n",
    "def calculate_max_emotion_score(predictions):\n",
    "    per_emotion_scores = {label: [] for label in emotion_labels}\n",
    "    for prediction in predictions:\n",
    "        for p in prediction:\n",
    "            label = p[\"label\"]\n",
    "            if label in per_emotion_scores:\n",
    "                per_emotion_scores[label].append(p[\"score\"])\n",
    "    return {\n",
    "        label: (np.max(scores) if scores else 0)\n",
    "        for label, scores in per_emotion_scores.items()\n",
    "    }"
   ],
   "id": "fe0c3fb84d70d3be",
   "outputs": [],
   "execution_count": 35
  },
  {
   "metadata": {
    "ExecuteTime": {
     "end_time": "2025-07-12T00:53:31.309128Z",
     "start_time": "2025-07-12T00:53:29.244945Z"
    }
   },
   "cell_type": "code",
   "source": [
    "for i in range(10):\n",
    "    isbn.append(books[\"isbn13\"][i])\n",
    "    sentences = books[\"description\"][i].split(\".\")\n",
    "    predictions = classifier(sentences)\n",
    "    max_scores = calculate_max_emotion_score(predictions)\n",
    "    for label in emotion_labels:\n",
    "        emotion_scores[label].append(max_scores[label])"
   ],
   "id": "edf0f6f837ed9c02",
   "outputs": [],
   "execution_count": 36
  },
  {
   "metadata": {
    "ExecuteTime": {
     "end_time": "2025-07-12T00:58:02.476636Z",
     "start_time": "2025-07-12T00:58:02.467183Z"
    }
   },
   "cell_type": "code",
   "outputs": [
    {
     "name": "stdout",
     "output_type": "stream",
     "text": [
      "{'anger': [0.06413363665342331,\n",
      "           0.6126185059547424,\n",
      "           0.06413363665342331,\n",
      "           0.3514834940433502,\n",
      "           0.0814124047756195,\n",
      "           0.23222540318965912,\n",
      "           0.5381839871406555,\n",
      "           0.06413363665342331,\n",
      "           0.30066895484924316,\n",
      "           0.06413363665342331],\n",
      " 'disgust': [0.27359241247177124,\n",
      "             0.3482835590839386,\n",
      "             0.10400672256946564,\n",
      "             0.15072275698184967,\n",
      "             0.18449535965919495,\n",
      "             0.7271743416786194,\n",
      "             0.1558549404144287,\n",
      "             0.10400672256946564,\n",
      "             0.27948135137557983,\n",
      "             0.17792679369449615],\n",
      " 'fear': [0.928168535232544,\n",
      "          0.942527711391449,\n",
      "          0.9723208546638489,\n",
      "          0.36070650815963745,\n",
      "          0.0950433686375618,\n",
      "          0.05136279761791229,\n",
      "          0.7474278807640076,\n",
      "          0.40449780225753784,\n",
      "          0.9155241250991821,\n",
      "          0.05136279761791229],\n",
      " 'joy': [0.9327982664108276,\n",
      "         0.7044215202331543,\n",
      "         0.7672374844551086,\n",
      "         0.25188058614730835,\n",
      "         0.040564414113759995,\n",
      "         0.04337584972381592,\n",
      "         0.8725652098655701,\n",
      "         0.040564414113759995,\n",
      "         0.040564414113759995,\n",
      "         0.040564414113759995],\n",
      " 'neutral': [0.6462168097496033,\n",
      "             0.887939453125,\n",
      "             0.5494767427444458,\n",
      "             0.732685387134552,\n",
      "             0.8843895196914673,\n",
      "             0.621392548084259,\n",
      "             0.7121946215629578,\n",
      "             0.5494767427444458,\n",
      "             0.8402895331382751,\n",
      "             0.8603722453117371],\n",
      " 'sadness': [0.9671575427055359,\n",
      "             0.11169015616178513,\n",
      "             0.11169015616178513,\n",
      "             0.11169015616178513,\n",
      "             0.47588053345680237,\n",
      "             0.11169015616178513,\n",
      "             0.4079996347427368,\n",
      "             0.8202819228172302,\n",
      "             0.35446080565452576,\n",
      "             0.11169015616178513],\n",
      " 'surprise': [0.7296027541160583,\n",
      "              0.2525451183319092,\n",
      "              0.07876548916101456,\n",
      "              0.07876548916101456,\n",
      "              0.07876548916101456,\n",
      "              0.27190282940864563,\n",
      "              0.07876548916101456,\n",
      "              0.23448683321475983,\n",
      "              0.1356145590543747,\n",
      "              0.07876548916101456]}\n"
     ]
    }
   ],
   "execution_count": 38,
   "source": [
    "import pprint\n",
    "\n",
    "# Convert to native floats on display only\n",
    "pretty_emotion_scores = {\n",
    "    label: [float(x) for x in scores]\n",
    "    for label, scores in emotion_scores.items()\n",
    "}\n",
    "\n",
    "pprint.pprint(pretty_emotion_scores)"
   ],
   "id": "aa18710d85c597d1"
  },
  {
   "metadata": {
    "ExecuteTime": {
     "end_time": "2025-07-12T01:17:29.616130Z",
     "start_time": "2025-07-12T01:01:25.945301Z"
    }
   },
   "cell_type": "code",
   "source": [
    "from tqdm import tqdm\n",
    "\n",
    "emotion_labels = [\"anger\", \"disgust\", \"fear\", \"joy\", \"sadness\", \"surprise\", \"neutral\"]\n",
    "isbn = []\n",
    "emotion_scores = {label: [] for label in emotion_labels}\n",
    "\n",
    "for i in tqdm(range(len(books))):\n",
    "    isbn.append(books[\"isbn13\"][i])\n",
    "    sentences = books[\"description\"][i].split(\".\")\n",
    "    predictions = classifier(sentences)\n",
    "    max_scores = calculate_max_emotion_score(predictions)\n",
    "    for label in emotion_labels:\n",
    "        emotion_scores[label].append(max_scores[label])\n",
    "for i in range(10):\n",
    "    isbn.append(books[\"isbn13\"][i])\n",
    "    sentences = books[\"description\"][i].split(\".\")\n",
    "    predictions = classifier(sentences)\n",
    "    max_scores = calculate_max_emotion_score(predictions)\n",
    "    for label in emotion_labels:\n",
    "        emotion_scores[label].append(max_scores[label])"
   ],
   "id": "8459ef07870ba27c",
   "outputs": [
    {
     "name": "stderr",
     "output_type": "stream",
     "text": [
      "100%|██████████| 5197/5197 [16:00<00:00,  5.41it/s]\n"
     ]
    }
   ],
   "execution_count": 39
  },
  {
   "metadata": {
    "ExecuteTime": {
     "end_time": "2025-07-12T01:19:09.223460Z",
     "start_time": "2025-07-12T01:19:09.146917Z"
    }
   },
   "cell_type": "code",
   "source": [
    "emotions_df = pd.DataFrame(emotion_scores)\n",
    "emotions_df[\"isbn13\"] = isbn"
   ],
   "id": "c81bd3c9a66f8327",
   "outputs": [],
   "execution_count": 40
  },
  {
   "metadata": {
    "ExecuteTime": {
     "end_time": "2025-07-12T01:21:18.547865Z",
     "start_time": "2025-07-12T01:21:18.511602Z"
    }
   },
   "cell_type": "code",
   "source": "emotions_df",
   "id": "36dbb41c9917113d",
   "outputs": [
    {
     "data": {
      "text/plain": [
       "         anger   disgust      fear       joy   sadness  surprise   neutral  \\\n",
       "0     0.064134  0.273592  0.928169  0.932798  0.967158  0.729603  0.646217   \n",
       "1     0.612619  0.348284  0.942528  0.704422  0.111690  0.252545  0.887939   \n",
       "2     0.064134  0.104007  0.972321  0.767237  0.111690  0.078765  0.549477   \n",
       "3     0.351483  0.150723  0.360707  0.251881  0.111690  0.078765  0.732685   \n",
       "4     0.081412  0.184495  0.095043  0.040564  0.475881  0.078765  0.884390   \n",
       "...        ...       ...       ...       ...       ...       ...       ...   \n",
       "5202  0.232225  0.727174  0.051363  0.043376  0.111690  0.271903  0.621393   \n",
       "5203  0.538184  0.155855  0.747428  0.872565  0.408000  0.078765  0.712195   \n",
       "5204  0.064134  0.104007  0.404498  0.040564  0.820282  0.234487  0.549477   \n",
       "5205  0.300669  0.279481  0.915524  0.040564  0.354461  0.135615  0.840290   \n",
       "5206  0.064134  0.177927  0.051363  0.040564  0.111690  0.078765  0.860372   \n",
       "\n",
       "             isbn13  \n",
       "0     9780002005883  \n",
       "1     9780002261982  \n",
       "2     9780006178736  \n",
       "3     9780006280897  \n",
       "4     9780006280934  \n",
       "...             ...  \n",
       "5202  9780006380832  \n",
       "5203  9780006470229  \n",
       "5204  9780006472612  \n",
       "5205  9780006482079  \n",
       "5206  9780006483014  \n",
       "\n",
       "[5207 rows x 8 columns]"
      ],
      "text/html": [
       "<div>\n",
       "<style scoped>\n",
       "    .dataframe tbody tr th:only-of-type {\n",
       "        vertical-align: middle;\n",
       "    }\n",
       "\n",
       "    .dataframe tbody tr th {\n",
       "        vertical-align: top;\n",
       "    }\n",
       "\n",
       "    .dataframe thead th {\n",
       "        text-align: right;\n",
       "    }\n",
       "</style>\n",
       "<table border=\"1\" class=\"dataframe\">\n",
       "  <thead>\n",
       "    <tr style=\"text-align: right;\">\n",
       "      <th></th>\n",
       "      <th>anger</th>\n",
       "      <th>disgust</th>\n",
       "      <th>fear</th>\n",
       "      <th>joy</th>\n",
       "      <th>sadness</th>\n",
       "      <th>surprise</th>\n",
       "      <th>neutral</th>\n",
       "      <th>isbn13</th>\n",
       "    </tr>\n",
       "  </thead>\n",
       "  <tbody>\n",
       "    <tr>\n",
       "      <th>0</th>\n",
       "      <td>0.064134</td>\n",
       "      <td>0.273592</td>\n",
       "      <td>0.928169</td>\n",
       "      <td>0.932798</td>\n",
       "      <td>0.967158</td>\n",
       "      <td>0.729603</td>\n",
       "      <td>0.646217</td>\n",
       "      <td>9780002005883</td>\n",
       "    </tr>\n",
       "    <tr>\n",
       "      <th>1</th>\n",
       "      <td>0.612619</td>\n",
       "      <td>0.348284</td>\n",
       "      <td>0.942528</td>\n",
       "      <td>0.704422</td>\n",
       "      <td>0.111690</td>\n",
       "      <td>0.252545</td>\n",
       "      <td>0.887939</td>\n",
       "      <td>9780002261982</td>\n",
       "    </tr>\n",
       "    <tr>\n",
       "      <th>2</th>\n",
       "      <td>0.064134</td>\n",
       "      <td>0.104007</td>\n",
       "      <td>0.972321</td>\n",
       "      <td>0.767237</td>\n",
       "      <td>0.111690</td>\n",
       "      <td>0.078765</td>\n",
       "      <td>0.549477</td>\n",
       "      <td>9780006178736</td>\n",
       "    </tr>\n",
       "    <tr>\n",
       "      <th>3</th>\n",
       "      <td>0.351483</td>\n",
       "      <td>0.150723</td>\n",
       "      <td>0.360707</td>\n",
       "      <td>0.251881</td>\n",
       "      <td>0.111690</td>\n",
       "      <td>0.078765</td>\n",
       "      <td>0.732685</td>\n",
       "      <td>9780006280897</td>\n",
       "    </tr>\n",
       "    <tr>\n",
       "      <th>4</th>\n",
       "      <td>0.081412</td>\n",
       "      <td>0.184495</td>\n",
       "      <td>0.095043</td>\n",
       "      <td>0.040564</td>\n",
       "      <td>0.475881</td>\n",
       "      <td>0.078765</td>\n",
       "      <td>0.884390</td>\n",
       "      <td>9780006280934</td>\n",
       "    </tr>\n",
       "    <tr>\n",
       "      <th>...</th>\n",
       "      <td>...</td>\n",
       "      <td>...</td>\n",
       "      <td>...</td>\n",
       "      <td>...</td>\n",
       "      <td>...</td>\n",
       "      <td>...</td>\n",
       "      <td>...</td>\n",
       "      <td>...</td>\n",
       "    </tr>\n",
       "    <tr>\n",
       "      <th>5202</th>\n",
       "      <td>0.232225</td>\n",
       "      <td>0.727174</td>\n",
       "      <td>0.051363</td>\n",
       "      <td>0.043376</td>\n",
       "      <td>0.111690</td>\n",
       "      <td>0.271903</td>\n",
       "      <td>0.621393</td>\n",
       "      <td>9780006380832</td>\n",
       "    </tr>\n",
       "    <tr>\n",
       "      <th>5203</th>\n",
       "      <td>0.538184</td>\n",
       "      <td>0.155855</td>\n",
       "      <td>0.747428</td>\n",
       "      <td>0.872565</td>\n",
       "      <td>0.408000</td>\n",
       "      <td>0.078765</td>\n",
       "      <td>0.712195</td>\n",
       "      <td>9780006470229</td>\n",
       "    </tr>\n",
       "    <tr>\n",
       "      <th>5204</th>\n",
       "      <td>0.064134</td>\n",
       "      <td>0.104007</td>\n",
       "      <td>0.404498</td>\n",
       "      <td>0.040564</td>\n",
       "      <td>0.820282</td>\n",
       "      <td>0.234487</td>\n",
       "      <td>0.549477</td>\n",
       "      <td>9780006472612</td>\n",
       "    </tr>\n",
       "    <tr>\n",
       "      <th>5205</th>\n",
       "      <td>0.300669</td>\n",
       "      <td>0.279481</td>\n",
       "      <td>0.915524</td>\n",
       "      <td>0.040564</td>\n",
       "      <td>0.354461</td>\n",
       "      <td>0.135615</td>\n",
       "      <td>0.840290</td>\n",
       "      <td>9780006482079</td>\n",
       "    </tr>\n",
       "    <tr>\n",
       "      <th>5206</th>\n",
       "      <td>0.064134</td>\n",
       "      <td>0.177927</td>\n",
       "      <td>0.051363</td>\n",
       "      <td>0.040564</td>\n",
       "      <td>0.111690</td>\n",
       "      <td>0.078765</td>\n",
       "      <td>0.860372</td>\n",
       "      <td>9780006483014</td>\n",
       "    </tr>\n",
       "  </tbody>\n",
       "</table>\n",
       "<p>5207 rows × 8 columns</p>\n",
       "</div>"
      ]
     },
     "execution_count": 42,
     "metadata": {},
     "output_type": "execute_result"
    }
   ],
   "execution_count": 42
  },
  {
   "metadata": {
    "ExecuteTime": {
     "end_time": "2025-07-12T01:22:15.574896Z",
     "start_time": "2025-07-12T01:22:15.478794Z"
    }
   },
   "cell_type": "code",
   "source": "books = pd.merge(books, emotions_df, on=\"isbn13\")",
   "id": "f937e020672cd68f",
   "outputs": [],
   "execution_count": 43
  },
  {
   "metadata": {
    "ExecuteTime": {
     "end_time": "2025-07-12T01:22:28.022429Z",
     "start_time": "2025-07-12T01:22:27.993507Z"
    }
   },
   "cell_type": "code",
   "source": "books",
   "id": "e34aa062350b9e8e",
   "outputs": [
    {
     "data": {
      "text/plain": [
       "             isbn13      isbn10  \\\n",
       "0     9780002005883  0002005883   \n",
       "1     9780002005883  0002005883   \n",
       "2     9780002261982  0002261987   \n",
       "3     9780002261982  0002261987   \n",
       "4     9780006178736  0006178731   \n",
       "...             ...         ...   \n",
       "5202  9788172235222  8172235224   \n",
       "5203  9788173031014  8173031010   \n",
       "5204  9788179921623  817992162X   \n",
       "5205  9788185300535  8185300534   \n",
       "5206  9789027712059  9027712050   \n",
       "\n",
       "                                                  title  \\\n",
       "0                                                Gilead   \n",
       "1                                                Gilead   \n",
       "2                                          Spider's Web   \n",
       "3                                          Spider's Web   \n",
       "4                                        Rage of angels   \n",
       "...                                                 ...   \n",
       "5202                                  Mistaken Identity   \n",
       "5203                                Journey to the East   \n",
       "5204  The Monk Who Sold His Ferrari: A Fable About F...   \n",
       "5205                                          I Am that   \n",
       "5206                           The Berlin Phenomenology   \n",
       "\n",
       "                                           authors  \\\n",
       "0                               Marilynne Robinson   \n",
       "1                               Marilynne Robinson   \n",
       "2                  Charles Osborne;Agatha Christie   \n",
       "3                  Charles Osborne;Agatha Christie   \n",
       "4                                   Sidney Sheldon   \n",
       "...                                            ...   \n",
       "5202                              Nayantara Sahgal   \n",
       "5203                                 Hermann Hesse   \n",
       "5204                                  Robin Sharma   \n",
       "5205  Sri Nisargadatta Maharaj;Sudhakar S. Dikshit   \n",
       "5206                 Georg Wilhelm Friedrich Hegel   \n",
       "\n",
       "                         categories  \\\n",
       "0                           Fiction   \n",
       "1                           Fiction   \n",
       "2     Detective and mystery stories   \n",
       "3     Detective and mystery stories   \n",
       "4                           Fiction   \n",
       "...                             ...   \n",
       "5202        Indic fiction (English)   \n",
       "5203              Adventure stories   \n",
       "5204               Health & Fitness   \n",
       "5205                     Philosophy   \n",
       "5206                        History   \n",
       "\n",
       "                                              thumbnail  \\\n",
       "0     http://books.google.com/books/content?id=KQZCP...   \n",
       "1     http://books.google.com/books/content?id=KQZCP...   \n",
       "2     http://books.google.com/books/content?id=gA5GP...   \n",
       "3     http://books.google.com/books/content?id=gA5GP...   \n",
       "4     http://books.google.com/books/content?id=FKo2T...   \n",
       "...                                                 ...   \n",
       "5202  http://books.google.com/books/content?id=q-tKP...   \n",
       "5203  http://books.google.com/books/content?id=rq6JP...   \n",
       "5204  http://books.google.com/books/content?id=c_7mf...   \n",
       "5205  http://books.google.com/books/content?id=Fv_JP...   \n",
       "5206  http://books.google.com/books/content?id=Vy7Sk...   \n",
       "\n",
       "                                            description  published_year  \\\n",
       "0     A NOVEL THAT READERS and critics have been eag...          2004.0   \n",
       "1     A NOVEL THAT READERS and critics have been eag...          2004.0   \n",
       "2     A new 'Christie for Christmas' -- a full-lengt...          2000.0   \n",
       "3     A new 'Christie for Christmas' -- a full-lengt...          2000.0   \n",
       "4     A memorable, mesmerizing heroine Jennifer -- b...          1993.0   \n",
       "...                                                 ...             ...   \n",
       "5202  On A Train Journey Home To North India After L...          2003.0   \n",
       "5203  This book tells the tale of a man who goes on ...          2002.0   \n",
       "5204  Wisdom to Create a Life of Passion, Purpose, a...          2003.0   \n",
       "5205  This collection of the timeless teachings of o...          1999.0   \n",
       "5206  Since the three volume edition ofHegel's Philo...          1981.0   \n",
       "\n",
       "      average_rating  num_pages  ...  simple_categories  \\\n",
       "0               3.85      247.0  ...            Fiction   \n",
       "1               3.85      247.0  ...            Fiction   \n",
       "2               3.83      241.0  ...            Fiction   \n",
       "3               3.83      241.0  ...            Fiction   \n",
       "4               3.93      512.0  ...            Fiction   \n",
       "...              ...        ...  ...                ...   \n",
       "5202            2.93      324.0  ...            Fiction   \n",
       "5203            3.70      175.0  ...         Nonfiction   \n",
       "5204            3.82      198.0  ...            Fiction   \n",
       "5205            4.51      531.0  ...         Nonfiction   \n",
       "5206            0.00      210.0  ...         Nonfiction   \n",
       "\n",
       "     predicted_categories_x predicted_categories_y     anger   disgust  \\\n",
       "0                       NaN                    NaN  0.064134  0.273592   \n",
       "1                       NaN                    NaN  0.064134  0.273592   \n",
       "2                   Fiction                Fiction  0.612619  0.348284   \n",
       "3                   Fiction                Fiction  0.612619  0.348284   \n",
       "4                       NaN                    NaN  0.064134  0.104007   \n",
       "...                     ...                    ...       ...       ...   \n",
       "5202                Fiction                Fiction  0.148208  0.030643   \n",
       "5203             Nonfiction             Nonfiction  0.064134  0.114383   \n",
       "5204                Fiction                Fiction  0.009997  0.009929   \n",
       "5205                    NaN                    NaN  0.064134  0.104007   \n",
       "5206                    NaN                    NaN  0.064134  0.104007   \n",
       "\n",
       "          fear       joy   sadness  surprise   neutral  \n",
       "0     0.928169  0.932798  0.967158  0.729603  0.646217  \n",
       "1     0.928169  0.932798  0.967158  0.729603  0.646217  \n",
       "2     0.942528  0.704422  0.111690  0.252545  0.887939  \n",
       "3     0.942528  0.704422  0.111690  0.252545  0.887939  \n",
       "4     0.972321  0.767237  0.111690  0.078765  0.549477  \n",
       "...        ...       ...       ...       ...       ...  \n",
       "5202  0.919165  0.255171  0.980877  0.030656  0.853722  \n",
       "5203  0.051363  0.400263  0.111690  0.227765  0.883198  \n",
       "5204  0.339217  0.947779  0.066685  0.057625  0.375755  \n",
       "5205  0.459268  0.759456  0.368112  0.078765  0.951104  \n",
       "5206  0.051363  0.958549  0.111690  0.078765  0.915193  \n",
       "\n",
       "[5207 rows x 23 columns]"
      ],
      "text/html": [
       "<div>\n",
       "<style scoped>\n",
       "    .dataframe tbody tr th:only-of-type {\n",
       "        vertical-align: middle;\n",
       "    }\n",
       "\n",
       "    .dataframe tbody tr th {\n",
       "        vertical-align: top;\n",
       "    }\n",
       "\n",
       "    .dataframe thead th {\n",
       "        text-align: right;\n",
       "    }\n",
       "</style>\n",
       "<table border=\"1\" class=\"dataframe\">\n",
       "  <thead>\n",
       "    <tr style=\"text-align: right;\">\n",
       "      <th></th>\n",
       "      <th>isbn13</th>\n",
       "      <th>isbn10</th>\n",
       "      <th>title</th>\n",
       "      <th>authors</th>\n",
       "      <th>categories</th>\n",
       "      <th>thumbnail</th>\n",
       "      <th>description</th>\n",
       "      <th>published_year</th>\n",
       "      <th>average_rating</th>\n",
       "      <th>num_pages</th>\n",
       "      <th>...</th>\n",
       "      <th>simple_categories</th>\n",
       "      <th>predicted_categories_x</th>\n",
       "      <th>predicted_categories_y</th>\n",
       "      <th>anger</th>\n",
       "      <th>disgust</th>\n",
       "      <th>fear</th>\n",
       "      <th>joy</th>\n",
       "      <th>sadness</th>\n",
       "      <th>surprise</th>\n",
       "      <th>neutral</th>\n",
       "    </tr>\n",
       "  </thead>\n",
       "  <tbody>\n",
       "    <tr>\n",
       "      <th>0</th>\n",
       "      <td>9780002005883</td>\n",
       "      <td>0002005883</td>\n",
       "      <td>Gilead</td>\n",
       "      <td>Marilynne Robinson</td>\n",
       "      <td>Fiction</td>\n",
       "      <td>http://books.google.com/books/content?id=KQZCP...</td>\n",
       "      <td>A NOVEL THAT READERS and critics have been eag...</td>\n",
       "      <td>2004.0</td>\n",
       "      <td>3.85</td>\n",
       "      <td>247.0</td>\n",
       "      <td>...</td>\n",
       "      <td>Fiction</td>\n",
       "      <td>NaN</td>\n",
       "      <td>NaN</td>\n",
       "      <td>0.064134</td>\n",
       "      <td>0.273592</td>\n",
       "      <td>0.928169</td>\n",
       "      <td>0.932798</td>\n",
       "      <td>0.967158</td>\n",
       "      <td>0.729603</td>\n",
       "      <td>0.646217</td>\n",
       "    </tr>\n",
       "    <tr>\n",
       "      <th>1</th>\n",
       "      <td>9780002005883</td>\n",
       "      <td>0002005883</td>\n",
       "      <td>Gilead</td>\n",
       "      <td>Marilynne Robinson</td>\n",
       "      <td>Fiction</td>\n",
       "      <td>http://books.google.com/books/content?id=KQZCP...</td>\n",
       "      <td>A NOVEL THAT READERS and critics have been eag...</td>\n",
       "      <td>2004.0</td>\n",
       "      <td>3.85</td>\n",
       "      <td>247.0</td>\n",
       "      <td>...</td>\n",
       "      <td>Fiction</td>\n",
       "      <td>NaN</td>\n",
       "      <td>NaN</td>\n",
       "      <td>0.064134</td>\n",
       "      <td>0.273592</td>\n",
       "      <td>0.928169</td>\n",
       "      <td>0.932798</td>\n",
       "      <td>0.967158</td>\n",
       "      <td>0.729603</td>\n",
       "      <td>0.646217</td>\n",
       "    </tr>\n",
       "    <tr>\n",
       "      <th>2</th>\n",
       "      <td>9780002261982</td>\n",
       "      <td>0002261987</td>\n",
       "      <td>Spider's Web</td>\n",
       "      <td>Charles Osborne;Agatha Christie</td>\n",
       "      <td>Detective and mystery stories</td>\n",
       "      <td>http://books.google.com/books/content?id=gA5GP...</td>\n",
       "      <td>A new 'Christie for Christmas' -- a full-lengt...</td>\n",
       "      <td>2000.0</td>\n",
       "      <td>3.83</td>\n",
       "      <td>241.0</td>\n",
       "      <td>...</td>\n",
       "      <td>Fiction</td>\n",
       "      <td>Fiction</td>\n",
       "      <td>Fiction</td>\n",
       "      <td>0.612619</td>\n",
       "      <td>0.348284</td>\n",
       "      <td>0.942528</td>\n",
       "      <td>0.704422</td>\n",
       "      <td>0.111690</td>\n",
       "      <td>0.252545</td>\n",
       "      <td>0.887939</td>\n",
       "    </tr>\n",
       "    <tr>\n",
       "      <th>3</th>\n",
       "      <td>9780002261982</td>\n",
       "      <td>0002261987</td>\n",
       "      <td>Spider's Web</td>\n",
       "      <td>Charles Osborne;Agatha Christie</td>\n",
       "      <td>Detective and mystery stories</td>\n",
       "      <td>http://books.google.com/books/content?id=gA5GP...</td>\n",
       "      <td>A new 'Christie for Christmas' -- a full-lengt...</td>\n",
       "      <td>2000.0</td>\n",
       "      <td>3.83</td>\n",
       "      <td>241.0</td>\n",
       "      <td>...</td>\n",
       "      <td>Fiction</td>\n",
       "      <td>Fiction</td>\n",
       "      <td>Fiction</td>\n",
       "      <td>0.612619</td>\n",
       "      <td>0.348284</td>\n",
       "      <td>0.942528</td>\n",
       "      <td>0.704422</td>\n",
       "      <td>0.111690</td>\n",
       "      <td>0.252545</td>\n",
       "      <td>0.887939</td>\n",
       "    </tr>\n",
       "    <tr>\n",
       "      <th>4</th>\n",
       "      <td>9780006178736</td>\n",
       "      <td>0006178731</td>\n",
       "      <td>Rage of angels</td>\n",
       "      <td>Sidney Sheldon</td>\n",
       "      <td>Fiction</td>\n",
       "      <td>http://books.google.com/books/content?id=FKo2T...</td>\n",
       "      <td>A memorable, mesmerizing heroine Jennifer -- b...</td>\n",
       "      <td>1993.0</td>\n",
       "      <td>3.93</td>\n",
       "      <td>512.0</td>\n",
       "      <td>...</td>\n",
       "      <td>Fiction</td>\n",
       "      <td>NaN</td>\n",
       "      <td>NaN</td>\n",
       "      <td>0.064134</td>\n",
       "      <td>0.104007</td>\n",
       "      <td>0.972321</td>\n",
       "      <td>0.767237</td>\n",
       "      <td>0.111690</td>\n",
       "      <td>0.078765</td>\n",
       "      <td>0.549477</td>\n",
       "    </tr>\n",
       "    <tr>\n",
       "      <th>...</th>\n",
       "      <td>...</td>\n",
       "      <td>...</td>\n",
       "      <td>...</td>\n",
       "      <td>...</td>\n",
       "      <td>...</td>\n",
       "      <td>...</td>\n",
       "      <td>...</td>\n",
       "      <td>...</td>\n",
       "      <td>...</td>\n",
       "      <td>...</td>\n",
       "      <td>...</td>\n",
       "      <td>...</td>\n",
       "      <td>...</td>\n",
       "      <td>...</td>\n",
       "      <td>...</td>\n",
       "      <td>...</td>\n",
       "      <td>...</td>\n",
       "      <td>...</td>\n",
       "      <td>...</td>\n",
       "      <td>...</td>\n",
       "      <td>...</td>\n",
       "    </tr>\n",
       "    <tr>\n",
       "      <th>5202</th>\n",
       "      <td>9788172235222</td>\n",
       "      <td>8172235224</td>\n",
       "      <td>Mistaken Identity</td>\n",
       "      <td>Nayantara Sahgal</td>\n",
       "      <td>Indic fiction (English)</td>\n",
       "      <td>http://books.google.com/books/content?id=q-tKP...</td>\n",
       "      <td>On A Train Journey Home To North India After L...</td>\n",
       "      <td>2003.0</td>\n",
       "      <td>2.93</td>\n",
       "      <td>324.0</td>\n",
       "      <td>...</td>\n",
       "      <td>Fiction</td>\n",
       "      <td>Fiction</td>\n",
       "      <td>Fiction</td>\n",
       "      <td>0.148208</td>\n",
       "      <td>0.030643</td>\n",
       "      <td>0.919165</td>\n",
       "      <td>0.255171</td>\n",
       "      <td>0.980877</td>\n",
       "      <td>0.030656</td>\n",
       "      <td>0.853722</td>\n",
       "    </tr>\n",
       "    <tr>\n",
       "      <th>5203</th>\n",
       "      <td>9788173031014</td>\n",
       "      <td>8173031010</td>\n",
       "      <td>Journey to the East</td>\n",
       "      <td>Hermann Hesse</td>\n",
       "      <td>Adventure stories</td>\n",
       "      <td>http://books.google.com/books/content?id=rq6JP...</td>\n",
       "      <td>This book tells the tale of a man who goes on ...</td>\n",
       "      <td>2002.0</td>\n",
       "      <td>3.70</td>\n",
       "      <td>175.0</td>\n",
       "      <td>...</td>\n",
       "      <td>Nonfiction</td>\n",
       "      <td>Nonfiction</td>\n",
       "      <td>Nonfiction</td>\n",
       "      <td>0.064134</td>\n",
       "      <td>0.114383</td>\n",
       "      <td>0.051363</td>\n",
       "      <td>0.400263</td>\n",
       "      <td>0.111690</td>\n",
       "      <td>0.227765</td>\n",
       "      <td>0.883198</td>\n",
       "    </tr>\n",
       "    <tr>\n",
       "      <th>5204</th>\n",
       "      <td>9788179921623</td>\n",
       "      <td>817992162X</td>\n",
       "      <td>The Monk Who Sold His Ferrari: A Fable About F...</td>\n",
       "      <td>Robin Sharma</td>\n",
       "      <td>Health &amp; Fitness</td>\n",
       "      <td>http://books.google.com/books/content?id=c_7mf...</td>\n",
       "      <td>Wisdom to Create a Life of Passion, Purpose, a...</td>\n",
       "      <td>2003.0</td>\n",
       "      <td>3.82</td>\n",
       "      <td>198.0</td>\n",
       "      <td>...</td>\n",
       "      <td>Fiction</td>\n",
       "      <td>Fiction</td>\n",
       "      <td>Fiction</td>\n",
       "      <td>0.009997</td>\n",
       "      <td>0.009929</td>\n",
       "      <td>0.339217</td>\n",
       "      <td>0.947779</td>\n",
       "      <td>0.066685</td>\n",
       "      <td>0.057625</td>\n",
       "      <td>0.375755</td>\n",
       "    </tr>\n",
       "    <tr>\n",
       "      <th>5205</th>\n",
       "      <td>9788185300535</td>\n",
       "      <td>8185300534</td>\n",
       "      <td>I Am that</td>\n",
       "      <td>Sri Nisargadatta Maharaj;Sudhakar S. Dikshit</td>\n",
       "      <td>Philosophy</td>\n",
       "      <td>http://books.google.com/books/content?id=Fv_JP...</td>\n",
       "      <td>This collection of the timeless teachings of o...</td>\n",
       "      <td>1999.0</td>\n",
       "      <td>4.51</td>\n",
       "      <td>531.0</td>\n",
       "      <td>...</td>\n",
       "      <td>Nonfiction</td>\n",
       "      <td>NaN</td>\n",
       "      <td>NaN</td>\n",
       "      <td>0.064134</td>\n",
       "      <td>0.104007</td>\n",
       "      <td>0.459268</td>\n",
       "      <td>0.759456</td>\n",
       "      <td>0.368112</td>\n",
       "      <td>0.078765</td>\n",
       "      <td>0.951104</td>\n",
       "    </tr>\n",
       "    <tr>\n",
       "      <th>5206</th>\n",
       "      <td>9789027712059</td>\n",
       "      <td>9027712050</td>\n",
       "      <td>The Berlin Phenomenology</td>\n",
       "      <td>Georg Wilhelm Friedrich Hegel</td>\n",
       "      <td>History</td>\n",
       "      <td>http://books.google.com/books/content?id=Vy7Sk...</td>\n",
       "      <td>Since the three volume edition ofHegel's Philo...</td>\n",
       "      <td>1981.0</td>\n",
       "      <td>0.00</td>\n",
       "      <td>210.0</td>\n",
       "      <td>...</td>\n",
       "      <td>Nonfiction</td>\n",
       "      <td>NaN</td>\n",
       "      <td>NaN</td>\n",
       "      <td>0.064134</td>\n",
       "      <td>0.104007</td>\n",
       "      <td>0.051363</td>\n",
       "      <td>0.958549</td>\n",
       "      <td>0.111690</td>\n",
       "      <td>0.078765</td>\n",
       "      <td>0.915193</td>\n",
       "    </tr>\n",
       "  </tbody>\n",
       "</table>\n",
       "<p>5207 rows × 23 columns</p>\n",
       "</div>"
      ]
     },
     "execution_count": 44,
     "metadata": {},
     "output_type": "execute_result"
    }
   ],
   "execution_count": 44
  },
  {
   "metadata": {
    "ExecuteTime": {
     "end_time": "2025-07-12T02:01:56.233177Z",
     "start_time": "2025-07-12T02:01:55.921818Z"
    }
   },
   "cell_type": "code",
   "source": "books.to_csv(\"books_with_categories.csv\", index=False)",
   "id": "1f3924944f3073f1",
   "outputs": [],
   "execution_count": 46
  }
 ],
 "metadata": {
  "kernelspec": {
   "display_name": "Python 3",
   "language": "python",
   "name": "python3"
  },
  "language_info": {
   "codemirror_mode": {
    "name": "ipython",
    "version": 2
   },
   "file_extension": ".py",
   "mimetype": "text/x-python",
   "name": "python",
   "nbconvert_exporter": "python",
   "pygments_lexer": "ipython2",
   "version": "2.7.6"
  }
 },
 "nbformat": 4,
 "nbformat_minor": 5
}
